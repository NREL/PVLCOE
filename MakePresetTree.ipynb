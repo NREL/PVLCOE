{
 "cells": [
  {
   "cell_type": "markdown",
   "metadata": {},
   "source": [
    "# Building a Preset Tree for NREL PVLCOE Calculator\n",
    "This notebook builds a javascript file which supplies the preset values that appear in the NREL PVLCOE calculator at http://pvlcoe.nrel.gov/, for the following parameters:\n",
    " - front layer cost\n",
    " - cell cost \n",
    " - back layer cost \n",
    " - non-cell costs\n",
    " - O&M costs\n",
    " - module efficiency \n",
    " - energy yield \n",
    " - degradation rate\n",
    "\n",
    "The values for efficiency and all costs listed above are defined in the notebook. The sources for these values are cited in https://www.nrel.gov/pv/lcoe-calculator/documentation.html\n",
    "\n",
    "Energy yield and degradation rate values are populated from an Excel sheet ('Energy-yield_deg-rate.xlsx') which contains data for all feasible combinations of different hardware configurations (cell material, module packaging, system type) and locations. Again, the sources for these values are cited in the documentation file.  \n",
    "\n"
   ]
  },
  {
   "cell_type": "code",
   "execution_count": 9,
   "metadata": {},
   "outputs": [],
   "source": [
    "import pandas as pd\n",
    "import numpy as np\n",
    "import json"
   ]
  },
  {
   "cell_type": "code",
   "execution_count": 10,
   "metadata": {},
   "outputs": [],
   "source": [
    "# Define feasible system configurations\n",
    "cell_technologies = ['mono-Si', 'multi-Si', 'CdTe']\n",
    "\n",
    "\n",
    "package_types = {\n",
    "    'mono-Si': ('glass-polymer backsheet', 'glass-glass'),\n",
    "    'multi-Si': ('glass-polymer backsheet', 'glass-glass'),\n",
    "    'CdTe': ('glass-glass', )\n",
    "}\n",
    "\n",
    "\n",
    "system_types = {\n",
    "    'mono-Si': ('fixed tilt, utility scale', 'single-axis tracked, utility scale', 'roof-mounted, residential scale'),\n",
    "    'multi-Si': ('fixed tilt, utility scale', 'single-axis tracked, utility scale'),\n",
    "    'CdTe': ('fixed tilt, utility scale', 'single-axis tracked, utility scale')\n",
    "}"
   ]
  },
  {
   "cell_type": "code",
   "execution_count": 11,
   "metadata": {},
   "outputs": [],
   "source": [
    "# Preset values for module parameters: costs are in USD per square meter, efficiency reported as a percentage\n",
    "module_details = {\n",
    "    'cost_front_layer': 4.06,\n",
    "    'cost_cell': {'mono-Si': 34.4, 'multi-Si': 31.45, 'CdTe': 30, 'perovskite':10},\n",
    "    'cost_back_layer': {'glass-polymer backsheet': 2.32, 'glass-glass': 3},\n",
    "    'cost_noncell': 18.,\n",
    "    'efficiency': {'mono-Si': 19.0, 'multi-Si': 17.0, 'CdTe': 16.0, 'perovskite':16.0},\n",
    "}"
   ]
  },
  {
   "cell_type": "code",
   "execution_count": 12,
   "metadata": {},
   "outputs": [],
   "source": [
    "# Preset values for operation & maintenance costs, reported in USD/kW(DC) per year\n",
    "cost_om = {\n",
    "    'fixed tilt, utility scale': 15.4,\n",
    "    'single-axis tracked, utility scale': 18.50,\n",
    "    'roof-mounted, residential scale': 21.00\n",
    "}"
   ]
  },
  {
   "cell_type": "code",
   "execution_count": 13,
   "metadata": {
    "scrolled": true
   },
   "outputs": [],
   "source": [
    "# Read energy yield and degradation rate data, remove weather file types from Location names\n",
    "df_yield = pd.read_excel('Energy-yield_deg-rates.xlsx')\n",
    "df_yield['Location'] = [label.replace(' (TMY2)', '').replace(' (TMY3)', '') for label in df_yield['Location']]"
   ]
  },
  {
   "cell_type": "code",
   "execution_count": 14,
   "metadata": {},
   "outputs": [],
   "source": [
    "# Turn first four columns into keys, and create dictionaries for each energy yield and degradation rate by location\n",
    "key_cols = list(df_yield.columns[:4])\n",
    "value_cols = df_yield.columns[4:]\n",
    "seq_keys = df_yield.groupby(key_cols).apply(lambda sub_df: sub_df[value_cols].values.tolist()).to_dict()\n",
    "\n",
    "system_yield = {k: v[0][1] for k, v in seq_keys.items()}\n",
    "degradation_rates = {k: v[0][2] for k, v in seq_keys.items()}"
   ]
  },
  {
   "cell_type": "code",
   "execution_count": 15,
   "metadata": {},
   "outputs": [],
   "source": [
    "# Build the full preset tree\n",
    "preset_tree = {}\n",
    "for cell_technology, package_type, system_type, location in system_yield:\n",
    "    if cell_technology not in preset_tree:\n",
    "        preset_tree[cell_technology] = {}\n",
    "    if package_type not in preset_tree[cell_technology]:\n",
    "        preset_tree[cell_technology][package_type] = {}\n",
    "    if system_type not in preset_tree[cell_technology][package_type]:\n",
    "        preset_tree[cell_technology][package_type][system_type] = {}\n",
    "    preset_tree[cell_technology][package_type][system_type][location] = {\n",
    "            'cost_front_layer': module_details['cost_front_layer'],\n",
    "            'cost_cell': module_details['cost_cell'][cell_technology],\n",
    "            'cost_back_layer': module_details['cost_back_layer'][package_type],\n",
    "            'cost_noncell': module_details['cost_noncell'],\n",
    "            'cost_om': cost_om[system_type],\n",
    "            'efficiency': module_details['efficiency'][cell_technology],\n",
    "            'energy_yield': np.round(system_yield[(cell_technology, package_type, system_type, location)]),\n",
    "            'degradation_rate': degradation_rates[(cell_technology, package_type, system_type, location)],\n",
    "            'state': location.split(' ')[1]\n",
    "        }"
   ]
  },
  {
   "cell_type": "code",
   "execution_count": 16,
   "metadata": {},
   "outputs": [],
   "source": [
    "# Save as javascript files\n",
    "with open('preset_tree.min.js', 'w') as file:\n",
    "    file.write('var preset_tree = ' + json.dumps(preset_tree, separators=(',', ':')))\n",
    "# Create preset_tree.js if you want a version that is more legible to humans    \n",
    "# with open('preset_tree.js', 'w') as file:\n",
    "#     file.write('var preset_tree = ' + json.dumps(preset_tree, indent=2, separators=(',', ': ')))"
   ]
  },
  {
   "cell_type": "code",
   "execution_count": null,
   "metadata": {},
   "outputs": [],
   "source": []
  }
 ],
 "metadata": {
  "kernelspec": {
   "display_name": "Python 3",
   "language": "python",
   "name": "python3"
  },
  "language_info": {
   "codemirror_mode": {
    "name": "ipython",
    "version": 3
   },
   "file_extension": ".py",
   "mimetype": "text/x-python",
   "name": "python",
   "nbconvert_exporter": "python",
   "pygments_lexer": "ipython3",
   "version": "3.7.6"
  }
 },
 "nbformat": 4,
 "nbformat_minor": 2
}
